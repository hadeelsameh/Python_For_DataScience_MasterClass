{
 "cells": [
  {
   "cell_type": "code",
   "execution_count": 12,
   "metadata": {
    "colab": {},
    "colab_type": "code",
    "id": "q4y8CpNqFaFM"
   },
   "outputs": [],
   "source": [
    "import numpy as np"
   ]
  },
  {
   "cell_type": "code",
   "execution_count": 42,
   "metadata": {},
   "outputs": [],
   "source": [
    "def compute_distances_two_loops(X, X_train ):\n",
    "    \n",
    "        \"\"\"\n",
    "        Compute the distance between each test point in X and each training point\n",
    "        in X_train using a nested loop over both the training data and the\n",
    "        test data.\n",
    "\n",
    "        Inputs:\n",
    "        - X: A numpy array of shape (num_test, D) containing test data.\n",
    "\n",
    "        Returns:\n",
    "        - dists: A numpy array of shape (num_test, num_train) where dists[i, j]\n",
    "          is the Euclidean distance between the ith test point and the jth training\n",
    "          point.\n",
    "        \"\"\"\n",
    "        num_test = X.shape[0]\n",
    "\n",
    "        num_train = X_train.shape[0]\n",
    "        dists = np.zeros((num_test, num_train))\n",
    "        for i in range(num_test):\n",
    "            for j in range(num_train):\n",
    "                #####################################################################\n",
    "                # TODO:                                                             #\n",
    "                # Compute the l2 distance between the ith test point and the jth    #\n",
    "                # training point, and store the result in dists[i, j]. You should   #\n",
    "                # not use a loop over dimension, nor use np.linalg.norm().          #\n",
    "                #####################################################################\n",
    "                # *****START OF YOUR CODE (DO NOT DELETE/MODIFY THIS LINE)*****\n",
    "                l=X_train[j,:]-X[i,:]\n",
    "                dists[i,j] =np.sqrt(np.sum(l**2)) \n",
    "                # *****END OF YOUR CODE (DO NOT DELETE/MODIFY THIS LINE)*****\n",
    "        return dists\n"
   ]
  },
  {
   "cell_type": "code",
   "execution_count": 43,
   "metadata": {},
   "outputs": [],
   "source": [
    "def compute_distances_one_loop(X, X_train):\n",
    "        \"\"\"\n",
    "        Compute the distance between each test point in X and each training point\n",
    "        in X_train using a single loop over the test data.\n",
    "\n",
    "        Input / Output: Same as compute_distances_two_loops\n",
    "        \"\"\"\n",
    "        num_test = X.shape[0]\n",
    "        num_train =X_train.shape[0]\n",
    "        dists = np.zeros((num_test, num_train))\n",
    "        for i in range(num_test):\n",
    "            #######################################################################\n",
    "            # TODO:                                                               #\n",
    "            # Compute the l2 distance between the ith test point and all training #\n",
    "            # points, and store the result in dists[i, :].                        #\n",
    "            # Do not use np.linalg.norm().                                        #\n",
    "            #######################################################################\n",
    "            # *****START OF YOUR CODE (DO NOT DELETE/MODIFY THIS LINE)*****\n",
    "            l=X_train - X[i, :]\n",
    "            dists[i, :] = np.sqrt(np.sum(np.square(l), axis=1))\n",
    "            # *****END OF YOUR CODE (DO NOT DELETE/MODIFY THIS LINE)*****\n",
    "        return dists"
   ]
  },
  {
   "cell_type": "code",
   "execution_count": 44,
   "metadata": {},
   "outputs": [],
   "source": [
    "def compute_distances_no_loops(X, X_train):\n",
    "        \"\"\"\n",
    "        Compute the distance between each test point in X and each training point\n",
    "        in X_train using no explicit loops.\n",
    "\n",
    "        Input / Output: Same as compute_distances_two_loops\n",
    "        \"\"\"\n",
    "        num_test = X.shape[0]\n",
    "        num_train = X_train.shape[0]\n",
    "        dists = np.zeros((num_test, num_train))\n",
    "        #########################################################################\n",
    "        # TODO:                                                                 #\n",
    "        # Compute the l2 distance between all test points and all training      #\n",
    "        # points without using any explicit loops, and store the result in      #\n",
    "        # dists.                                                                #\n",
    "        #                                                                       #\n",
    "        # You should implement this function using only basic array operations; #\n",
    "        # in particular you should not use functions from scipy,                #\n",
    "        # nor use np.linalg.norm().                                             #\n",
    "        #                                                                       #\n",
    "        # HINT: Try to formulate the l2 distance using matrix multiplication    #\n",
    "        #       and two broadcast sums.                                         #\n",
    "        #########################################################################\n",
    "        # *****START OF YOUR CODE (DO NOT DELETE/MODIFY THIS LINE)*****\n",
    "        X_power2 = np.sum(X**2, axis=1, keepdims=True)\n",
    "        X_train_power2 = np.sum(X_train**2, axis=1, keepdims=True)\n",
    "        dists= np.sqrt( X_power2 -2 *np.dot(X,(X_train.T)) + X_train_power2.T)\n",
    "        # *****END OF YOUR CODE (DO NOT DELETE/MODIFY THIS LINE)*****\n",
    "        return dists"
   ]
  },
  {
   "cell_type": "code",
   "execution_count": 45,
   "metadata": {
    "colab": {},
    "colab_type": "code",
    "id": "Yf3WRqhvE7Tw"
   },
   "outputs": [],
   "source": [
    "\n",
    "\n",
    " # *************** NO CHANGES HERE *************************************\n",
    "\n",
    "def predict_labels(dists,y_train, k):\n",
    "        \"\"\"\n",
    "        Given a matrix of distances between test points and training points,\n",
    "        predict a label for each test point.\n",
    "\n",
    "        Inputs:\n",
    "        - dists: A numpy array of shape (num_test, num_train) where dists[i, j]\n",
    "          gives the distance betwen the ith test point and the jth training point.\n",
    "\n",
    "        Returns:\n",
    "        - y: A numpy array of shape (num_test,) containing predicted labels for the\n",
    "          test data, where y[i] is the predicted label for the test point X[i].\n",
    "        \"\"\"\n",
    "        num_test = dists.shape[0]\n",
    "        y_pred = np.zeros(num_test)\n",
    "\n",
    "        for i in range(num_test):\n",
    "            # A list of length k storing the labels of the k nearest neighbors to\n",
    "            # the ith test point.\n",
    "            closest_y = []\n",
    "            #########################################################################\n",
    "            # TODO:                                                                 #\n",
    "            # Use the distance matrix to find the k nearest neighbors of the ith    #\n",
    "            # testing point, and use y_train to find the labels of these       #\n",
    "            # neighbors. Store these labels in closest_y.                           #\n",
    "            # Hint: Look up the function numpy.argsort.                             #\n",
    "            #########################################################################\n",
    "            # *****START OF YOUR CODE *****\n",
    "            ## sort by index\n",
    "            index_sort = np.argsort(dists[i])\n",
    "            \n",
    "            ## y values of k nearest neighbors\n",
    "            closest_y = y_train[index_sort][:k]\n",
    "          \n",
    "            # *****END OF YOUR CODE (DO NOT DELETE/MODIFY THIS LINE)*****\n",
    "            #########################################################################\n",
    "            # TODO:                                                                 #\n",
    "            # Now that you have found the labels of the k nearest neighbors, you    #\n",
    "            # need to find the most common label in the list closest_y of labels.   #\n",
    "            # Store this label in y_pred[i]. Break ties by choosing the smaller     #\n",
    "            # label.                                                                #\n",
    "            #########################################################################\n",
    "            # *****START OF YOUR CODE (DO NOT DELETE/MODIFY THIS LINE)*****\n",
    "            occurances = np.bincount(closest_y)\n",
    "            y_pred[i] = np.argmax(occurances)\n",
    "\n",
    "            # *****END OF YOUR CODE (DO NOT DELETE/MODIFY THIS LINE)*****\n",
    "\n",
    "        return y_pred"
   ]
  },
  {
   "cell_type": "markdown",
   "metadata": {
    "colab_type": "text",
    "id": "WPYR-ETbsBix"
   },
   "source": [
    "**hints**"
   ]
  },
  {
   "cell_type": "code",
   "execution_count": 6,
   "metadata": {
    "colab": {
     "base_uri": "https://localhost:8080/",
     "height": 34
    },
    "colab_type": "code",
    "id": "BkrrwQmqQk8S",
    "outputId": "0f687f5f-c470-491d-c37a-68a4b9eb8294"
   },
   "outputs": [
    {
     "data": {
      "text/plain": [
       "array([0, 4, 2, 3, 5, 6, 1])"
      ]
     },
     "execution_count": 6,
     "metadata": {},
     "output_type": "execute_result"
    }
   ],
   "source": [
    "x = np.array([1,9,3,3,2, 6, 6])\n",
    "np.argsort(x)"
   ]
  },
  {
   "cell_type": "code",
   "execution_count": 7,
   "metadata": {
    "colab": {
     "base_uri": "https://localhost:8080/",
     "height": 34
    },
    "colab_type": "code",
    "id": "lhlDyD5wQ-O3",
    "outputId": "54630465-bfb4-4596-a4ae-b9636c60b3a9"
   },
   "outputs": [
    {
     "data": {
      "text/plain": [
       "array([9, 2, 3])"
      ]
     },
     "execution_count": 7,
     "metadata": {},
     "output_type": "execute_result"
    }
   ],
   "source": [
    "x[[1,4, 3]]"
   ]
  },
  {
   "cell_type": "code",
   "execution_count": 8,
   "metadata": {
    "colab": {
     "base_uri": "https://localhost:8080/",
     "height": 34
    },
    "colab_type": "code",
    "id": "awwfV7WNQq2d",
    "outputId": "00e82741-2084-4729-d3ca-295084a2fde2"
   },
   "outputs": [
    {
     "data": {
      "text/plain": [
       "array([0, 1, 1, 2, 0, 0, 2, 0, 0, 1])"
      ]
     },
     "execution_count": 8,
     "metadata": {},
     "output_type": "execute_result"
    }
   ],
   "source": [
    "occurances = np.bincount(x)\n",
    "occurances\n"
   ]
  },
  {
   "cell_type": "code",
   "execution_count": 9,
   "metadata": {
    "colab": {
     "base_uri": "https://localhost:8080/",
     "height": 34
    },
    "colab_type": "code",
    "id": "W6fBvMYLQq8_",
    "outputId": "bd58aeeb-2cd6-4c65-8bcc-9596e0cc4517"
   },
   "outputs": [
    {
     "data": {
      "text/plain": [
       "3"
      ]
     },
     "execution_count": 9,
     "metadata": {},
     "output_type": "execute_result"
    }
   ],
   "source": [
    "np.argmax(occurances)"
   ]
  },
  {
   "cell_type": "markdown",
   "metadata": {
    "colab_type": "text",
    "id": "X-c3NUlXFdJj"
   },
   "source": [
    "#**MNIST**"
   ]
  },
  {
   "cell_type": "markdown",
   "metadata": {
    "colab_type": "text",
    "id": "Q8AosdaEF6la"
   },
   "source": [
    "**read Train and Test**"
   ]
  },
  {
   "cell_type": "code",
   "execution_count": 46,
   "metadata": {
    "colab": {},
    "colab_type": "code",
    "id": "HC5yE8N7F4SY"
   },
   "outputs": [],
   "source": [
    "#directory = './Train/'\n",
    "directory=r'C:/Users/Hadeel/Desktop/Python_For_DataScience_MasterClass/Assignment 3/Train/'\n",
    "#test_directory = './Test/'\n",
    "test_directory=r'C:/Users/Hadeel/Desktop/Python_For_DataScience_MasterClass/Assignment 3/Test/'\n",
    "import os \n",
    "import skimage\n",
    "import numpy as np\n",
    "from skimage.io import imread\n",
    "import matplotlib.pyplot as plt"
   ]
  },
  {
   "cell_type": "code",
   "execution_count": 47,
   "metadata": {
    "colab": {
     "base_uri": "https://localhost:8080/",
     "height": 34
    },
    "colab_type": "code",
    "id": "OHwfycPtE7Wf",
    "outputId": "53118155-7986-444f-c527-35243ad79651"
   },
   "outputs": [
    {
     "data": {
      "text/plain": [
       "((2400, 784), (200, 784))"
      ]
     },
     "execution_count": 47,
     "metadata": {},
     "output_type": "execute_result"
    }
   ],
   "source": [
    "MNIST_Train = np.array([imread(directory + str(i) + '.jpg').flatten() for i in range(1, 2400 +1)])\n",
    "MNIST_Test = np.array([imread(test_directory + str(i) + '.jpg', 0).flatten() for i in range(1, 201)])\n",
    "MNIST_Train.shape, MNIST_Test.shape"
   ]
  },
  {
   "cell_type": "markdown",
   "metadata": {
    "colab_type": "text",
    "id": "YlTeSHTFGozD"
   },
   "source": [
    "**normalize MNIST**"
   ]
  },
  {
   "cell_type": "code",
   "execution_count": 48,
   "metadata": {
    "colab": {
     "base_uri": "https://localhost:8080/",
     "height": 34
    },
    "colab_type": "code",
    "id": "hygmTyxeHBDD",
    "outputId": "965b9217-7f5e-41b1-ca23-1ff1910650d0"
   },
   "outputs": [
    {
     "data": {
      "text/plain": [
       "(255, 0)"
      ]
     },
     "execution_count": 48,
     "metadata": {},
     "output_type": "execute_result"
    }
   ],
   "source": [
    "MNIST_Train.max(), MNIST_Train.min()"
   ]
  },
  {
   "cell_type": "code",
   "execution_count": 49,
   "metadata": {
    "colab": {
     "base_uri": "https://localhost:8080/",
     "height": 34
    },
    "colab_type": "code",
    "id": "vwVyl7EAE7Z0",
    "outputId": "f8657f44-fec0-4738-f2b3-eabdc2844d25"
   },
   "outputs": [
    {
     "data": {
      "text/plain": [
       "(1.0, 0.0)"
      ]
     },
     "execution_count": 49,
     "metadata": {},
     "output_type": "execute_result"
    }
   ],
   "source": [
    "MNIST_Train = MNIST_Train / 255.0\n",
    "MNIST_Test  = MNIST_Test /255.0\n",
    "MNIST_Train.max(), MNIST_Train.min()"
   ]
  },
  {
   "cell_type": "code",
   "execution_count": 50,
   "metadata": {
    "colab": {},
    "colab_type": "code",
    "id": "72YqprBzHdJ1"
   },
   "outputs": [],
   "source": [
    "# the mean of the training data\n",
    "mean = np.mean(MNIST_Train, axis = 0)\n",
    "MNIST_Train = MNIST_Train -  mean\n",
    "MNIST_Test = MNIST_Test -  mean"
   ]
  },
  {
   "cell_type": "code",
   "execution_count": 51,
   "metadata": {
    "colab": {
     "base_uri": "https://localhost:8080/",
     "height": 282
    },
    "colab_type": "code",
    "id": "ZGhgVR0lFoBL",
    "outputId": "b60bcdc1-fb95-42ae-85ec-bdb1abfa4d85"
   },
   "outputs": [
    {
     "data": {
      "text/plain": [
       "<matplotlib.image.AxesImage at 0x1f7b51a9688>"
      ]
     },
     "execution_count": 51,
     "metadata": {},
     "output_type": "execute_result"
    },
    {
     "data": {
      "image/png": "[encoded data removed]",
      "text/plain": [
       "<Figure size 432x288 with 1 Axes>"
      ]
     },
     "metadata": {
      "needs_background": "light"
     },
     "output_type": "display_data"
    }
   ],
   "source": [
    "plt.imshow(MNIST_Train[-1].reshape(28,28))"
   ]
  },
  {
   "cell_type": "markdown",
   "metadata": {
    "colab_type": "text",
    "id": "n9YD-UZMIPwM"
   },
   "source": [
    "**train and test labels**"
   ]
  },
  {
   "cell_type": "code",
   "execution_count": 52,
   "metadata": {
    "colab": {
     "base_uri": "https://localhost:8080/",
     "height": 34
    },
    "colab_type": "code",
    "id": "9B0v3_V2Iyn0",
    "outputId": "329bbca1-8bb1-40cf-9e75-4ba2c5f27dd4"
   },
   "outputs": [
    {
     "data": {
      "text/plain": [
       "array([0, 0, 0, ..., 9, 9, 9])"
      ]
     },
     "execution_count": 52,
     "metadata": {},
     "output_type": "execute_result"
    }
   ],
   "source": [
    "MNIST_train_labels = np.repeat(np.arange(0,10) , 240)\n",
    "MNIST_train_labels"
   ]
  },
  {
   "cell_type": "code",
   "execution_count": 53,
   "metadata": {
    "colab": {
     "base_uri": "https://localhost:8080/",
     "height": 34
    },
    "colab_type": "code",
    "id": "8AW0Mn5KFtA-",
    "outputId": "4aeef163-4de0-41be-d57c-8e9650c8ffef"
   },
   "outputs": [
    {
     "data": {
      "text/plain": [
       "(200,)"
      ]
     },
     "execution_count": 53,
     "metadata": {},
     "output_type": "execute_result"
    }
   ],
   "source": [
    "MNIST_test_labels = np.loadtxt('./Test Labels.txt')\n",
    "MNIST_test_labels.shape"
   ]
  },
  {
   "cell_type": "markdown",
   "metadata": {
    "colab_type": "text",
    "id": "8Nk8X06GJDjG"
   },
   "source": [
    "**KNN**"
   ]
  },
  {
   "cell_type": "code",
   "execution_count": 54,
   "metadata": {
    "colab": {
     "base_uri": "https://localhost:8080/",
     "height": 34
    },
    "colab_type": "code",
    "id": "5o3yP6vlFtD8",
    "outputId": "2f9fbb00-8ce0-4326-a9c7-d6eaff2642c1"
   },
   "outputs": [
    {
     "data": {
      "text/plain": [
       "(200, 2400)"
      ]
     },
     "execution_count": 54,
     "metadata": {},
     "output_type": "execute_result"
    }
   ],
   "source": [
    "MNIST_distances = compute_distances_no_loops(MNIST_Test, MNIST_Train)\n",
    "MNIST_distances.shape"
   ]
  },
  {
   "cell_type": "code",
   "execution_count": 55,
   "metadata": {},
   "outputs": [
    {
     "name": "stdout",
     "output_type": "stream",
     "text": [
      "No loop version took 0.037335 seconds\n",
      "One loop version took 2.715059 seconds\n",
      "Two loop version took 5.123302 seconds\n"
     ]
    }
   ],
   "source": [
    "# Let's compare how fast the implementations are\n",
    "def time_function(f, *args):\n",
    "    \"\"\"\n",
    "    Call a function f with args and return the time (in seconds) that it took to execute.\n",
    "    \"\"\"\n",
    "    import time\n",
    "    tic = time.time()\n",
    "    f(*args)\n",
    "    toc = time.time()\n",
    "    return toc - tic\n",
    "\n",
    "no_loop_time = time_function(compute_distances_no_loops, MNIST_Test, MNIST_Train)\n",
    "print('No loop version took %f seconds' % no_loop_time)\n",
    "\n",
    "one_loop_time = time_function(compute_distances_one_loop, MNIST_Test, MNIST_Train)\n",
    "print('One loop version took %f seconds' % one_loop_time)\n",
    "\n",
    "two_loop_time = time_function(compute_distances_two_loops, MNIST_Test, MNIST_Train)\n",
    "print('Two loop version took %f seconds' % two_loop_time)\n",
    "\n",
    "\n",
    "\n",
    "\n",
    "# You should see significantly faster performance with the fully vectorized implementation!\n",
    "\n",
    "# NOTE: depending on what machine you're using, \n",
    "# you might not see a speedup when you go from two loops to one loop, \n",
    "# and might even see a slow-down."
   ]
  },
  {
   "cell_type": "code",
   "execution_count": 56,
   "metadata": {
    "colab": {
     "base_uri": "https://localhost:8080/",
     "height": 34
    },
    "colab_type": "code",
    "id": "JGeiA0QgFtHO",
    "outputId": "386b7e86-043a-486f-b96d-267f42a34c7a"
   },
   "outputs": [
    {
     "data": {
      "text/plain": [
       "(200,)"
      ]
     },
     "execution_count": 56,
     "metadata": {},
     "output_type": "execute_result"
    }
   ],
   "source": [
    "MNIST_prediction = predict_labels(MNIST_distances,MNIST_train_labels, k=10)\n",
    "MNIST_prediction.shape"
   ]
  },
  {
   "cell_type": "code",
   "execution_count": 57,
   "metadata": {
    "colab": {
     "base_uri": "https://localhost:8080/",
     "height": 34
    },
    "colab_type": "code",
    "id": "xUd0wAe5JoO2",
    "outputId": "2d1b2733-035f-46c3-f40a-3936d55e7065"
   },
   "outputs": [
    {
     "data": {
      "text/plain": [
       "91.0"
      ]
     },
     "execution_count": 57,
     "metadata": {},
     "output_type": "execute_result"
    }
   ],
   "source": [
    "np.mean(MNIST_prediction == MNIST_test_labels) * 100"
   ]
  },
  {
   "cell_type": "code",
   "execution_count": null,
   "metadata": {},
   "outputs": [],
   "source": []
  }
 ],
 "metadata": {
  "colab": {
   "collapsed_sections": [],
   "name": "KNN_solution.ipynb",
   "provenance": []
  },
  "kernelspec": {
   "display_name": "Python 3",
   "language": "python",
   "name": "python3"
  },
  "language_info": {
   "codemirror_mode": {
    "name": "ipython",
    "version": 3
   },
   "file_extension": ".py",
   "mimetype": "text/x-python",
   "name": "python",
   "nbconvert_exporter": "python",
   "pygments_lexer": "ipython3",
   "version": "3.7.4"
  }
 },
 "nbformat": 4,
 "nbformat_minor": 4
}
